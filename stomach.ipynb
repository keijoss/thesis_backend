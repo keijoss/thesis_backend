{
  "nbformat": 4,
  "nbformat_minor": 0,
  "metadata": {
    "colab": {
      "provenance": [],
      "authorship_tag": "ABX9TyOaKY1O6Yu11gI4gXUmeroo",
      "include_colab_link": true
    },
    "kernelspec": {
      "name": "python3",
      "display_name": "Python 3"
    },
    "language_info": {
      "name": "python"
    }
  },
  "cells": [
    {
      "cell_type": "markdown",
      "metadata": {
        "id": "view-in-github",
        "colab_type": "text"
      },
      "source": [
        "<a href=\"https://colab.research.google.com/github/keijoss/thesis_backend/blob/main/stomach.ipynb\" target=\"_parent\"><img src=\"https://colab.research.google.com/assets/colab-badge.svg\" alt=\"Open In Colab\"/></a>"
      ]
    },
    {
      "cell_type": "code",
      "execution_count": null,
      "metadata": {
        "colab": {
          "base_uri": "https://localhost:8080/"
        },
        "id": "jn4-mEmSJTe_",
        "outputId": "14fbf73c-1486-4695-f195-ee3114b97ca8"
      },
      "outputs": [
        {
          "output_type": "stream",
          "name": "stdout",
          "text": [
            "Requirement already satisfied: pandas in /usr/local/lib/python3.10/dist-packages (2.2.2)\n",
            "Requirement already satisfied: numpy>=1.22.4 in /usr/local/lib/python3.10/dist-packages (from pandas) (1.26.4)\n",
            "Requirement already satisfied: python-dateutil>=2.8.2 in /usr/local/lib/python3.10/dist-packages (from pandas) (2.8.2)\n",
            "Requirement already satisfied: pytz>=2020.1 in /usr/local/lib/python3.10/dist-packages (from pandas) (2024.2)\n",
            "Requirement already satisfied: tzdata>=2022.7 in /usr/local/lib/python3.10/dist-packages (from pandas) (2024.2)\n",
            "Requirement already satisfied: six>=1.5 in /usr/local/lib/python3.10/dist-packages (from python-dateutil>=2.8.2->pandas) (1.17.0)\n",
            "Requirement already satisfied: numpy in /usr/local/lib/python3.10/dist-packages (1.26.4)\n",
            "Requirement already satisfied: matplotlib in /usr/local/lib/python3.10/dist-packages (3.10.0)\n",
            "Requirement already satisfied: contourpy>=1.0.1 in /usr/local/lib/python3.10/dist-packages (from matplotlib) (1.3.1)\n",
            "Requirement already satisfied: cycler>=0.10 in /usr/local/lib/python3.10/dist-packages (from matplotlib) (0.12.1)\n",
            "Requirement already satisfied: fonttools>=4.22.0 in /usr/local/lib/python3.10/dist-packages (from matplotlib) (4.55.3)\n",
            "Requirement already satisfied: kiwisolver>=1.3.1 in /usr/local/lib/python3.10/dist-packages (from matplotlib) (1.4.8)\n",
            "Requirement already satisfied: numpy>=1.23 in /usr/local/lib/python3.10/dist-packages (from matplotlib) (1.26.4)\n",
            "Requirement already satisfied: packaging>=20.0 in /usr/local/lib/python3.10/dist-packages (from matplotlib) (24.2)\n",
            "Requirement already satisfied: pillow>=8 in /usr/local/lib/python3.10/dist-packages (from matplotlib) (11.1.0)\n",
            "Requirement already satisfied: pyparsing>=2.3.1 in /usr/local/lib/python3.10/dist-packages (from matplotlib) (3.2.1)\n",
            "Requirement already satisfied: python-dateutil>=2.7 in /usr/local/lib/python3.10/dist-packages (from matplotlib) (2.8.2)\n",
            "Requirement already satisfied: six>=1.5 in /usr/local/lib/python3.10/dist-packages (from python-dateutil>=2.7->matplotlib) (1.17.0)\n",
            "Requirement already satisfied: scikit-learn in /usr/local/lib/python3.10/dist-packages (1.6.0)\n",
            "Requirement already satisfied: numpy>=1.19.5 in /usr/local/lib/python3.10/dist-packages (from scikit-learn) (1.26.4)\n",
            "Requirement already satisfied: scipy>=1.6.0 in /usr/local/lib/python3.10/dist-packages (from scikit-learn) (1.13.1)\n",
            "Requirement already satisfied: joblib>=1.2.0 in /usr/local/lib/python3.10/dist-packages (from scikit-learn) (1.4.2)\n",
            "Requirement already satisfied: threadpoolctl>=3.1.0 in /usr/local/lib/python3.10/dist-packages (from scikit-learn) (3.5.0)\n"
          ]
        }
      ],
      "source": [
        "!pip install pandas\n",
        "!pip install numpy\n",
        "!pip install matplotlib\n",
        "!pip install scikit-learn"
      ]
    },
    {
      "cell_type": "code",
      "source": [],
      "metadata": {
        "id": "Kk6Y4KpuMJ5N"
      },
      "execution_count": null,
      "outputs": []
    },
    {
      "cell_type": "code",
      "source": [
        "import pandas as pd\n",
        "from sklearn.model_selection import train_test_split\n",
        "from sklearn.ensemble import RandomForestClassifier\n",
        "\n",
        "# Load dataset\n",
        "data = pd.DataFrame([\n",
        "    {\"Quiz ID\": \"Quiz 3\", \"Question ID\": \"Q1\", \"Question\": \"What is the primary function of the small intestine?\",\n",
        "     \"Options\": \"a. Absorption of nutrients, b. Storage of waste, c. Production of bile, d. Filtering blood\",\n",
        "     \"Correct Answer\": \"a\", \"Topic\": \"Small Intestine\"},\n",
        "    {\"Quiz ID\": \"Quiz 3\", \"Question ID\": \"Q2\", \"Question\": \"Which organ stores bile for digestion?\",\n",
        "     \"Options\": \"a. Liver, b. Pancreas, c. Gallbladder, d. Small intestine\",\n",
        "     \"Correct Answer\": \"c\", \"Topic\": \"Gallbladder\"},\n",
        "    {\"Quiz ID\": \"Quiz 3\", \"Question ID\": \"Q3\", \"Question\": \"What is the primary role of the pancreas?\",\n",
        "     \"Options\": \"a. Produces insulin and digestive enzymes, b. Stores bile, c. Filters blood, d. Produces red blood cells\",\n",
        "     \"Correct Answer\": \"a\", \"Topic\": \"Pancreas\"},\n",
        "    {\"Quiz ID\": \"Quiz 3\", \"Question ID\": \"Q4\", \"Question\": \"What is the primary function of the large intestine?\",\n",
        "     \"Options\": \"a. Water absorption and feces formation, b. Digest protein, c. Produce insulin, d. Store nutrients\",\n",
        "     \"Correct Answer\": \"a\", \"Topic\": \"Large Intestine\"},\n",
        "    {\"Quiz ID\": \"Quiz 3\", \"Question ID\": \"Q5\", \"Question\": \"Which organ produces bile to help digest fats?\",\n",
        "     \"Options\": \"a. Liver, b. Pancreas, c. Gallbladder, d. Stomach\",\n",
        "     \"Correct Answer\": \"a\", \"Topic\": \"Liver\"},\n",
        "    {\"Quiz ID\": \"Quiz 3\", \"Question ID\": \"Q6\", \"Question\": \"What part of the small intestine is responsible for most nutrient absorption?\",\n",
        "     \"Options\": \"a. Duodenum, b. Jejunum, c. Ileum, d. Cecum\",\n",
        "     \"Correct Answer\": \"b\", \"Topic\": \"Small Intestine\"},\n",
        "    {\"Quiz ID\": \"Quiz 3\", \"Question ID\": \"Q7\", \"Question\": \"What is a function of the liver besides producing bile?\",\n",
        "     \"Options\": \"a. Store vitamins and minerals, b. Produce insulin, c. Absorb water, d. Filter lymph\",\n",
        "     \"Correct Answer\": \"a\", \"Topic\": \"Liver\"},\n",
        "    {\"Quiz ID\": \"Quiz 3\", \"Question ID\": \"Q8\", \"Question\": \"Which part of the pancreas produces insulin?\",\n",
        "     \"Options\": \"a. Exocrine tissue, b. Islets of Langerhans, c. Hepatocytes, d. Bile ducts\",\n",
        "     \"Correct Answer\": \"b\", \"Topic\": \"Pancreas\"},\n",
        "    {\"Quiz ID\": \"Quiz 3\", \"Question ID\": \"Q9\", \"Question\": \"What is the purpose of the villi in the small intestine?\",\n",
        "     \"Options\": \"a. Absorb nutrients, b. Store bile, c. Produce digestive enzymes, d. Filter toxins\",\n",
        "     \"Correct Answer\": \"a\", \"Topic\": \"Small Intestine\"},\n",
        "    {\"Quiz ID\": \"Quiz 3\", \"Question ID\": \"Q10\", \"Question\": \"What happens in the colon of the large intestine?\",\n",
        "     \"Options\": \"a. Water and electrolytes are absorbed, b. Proteins are digested, c. Fats are emulsified, d. Insulin is produced\",\n",
        "     \"Correct Answer\": \"a\", \"Topic\": \"Large Intestine\"}\n",
        "])\n",
        "\n",
        "# Student answers example\n",
        "student_answers = [\n",
        "    {\"Question ID\": \"Q1\", \"Answer\": \"a\"},\n",
        "    {\"Question ID\": \"Q2\", \"Answer\": \"c\"},\n",
        "    {\"Question ID\": \"Q3\", \"Answer\": \"a\"},\n",
        "    {\"Question ID\": \"Q4\", \"Answer\": \"b\"},  # Wrong\n",
        "    {\"Question ID\": \"Q5\", \"Answer\": \"a\"},\n",
        "    {\"Question ID\": \"Q6\", \"Answer\": \"b\"},\n",
        "    {\"Question ID\": \"Q7\", \"Answer\": \"a\"},\n",
        "    {\"Question ID\": \"Q8\", \"Answer\": \"b\"},\n",
        "    {\"Question ID\": \"Q9\", \"Answer\": \"a\"},\n",
        "    {\"Question ID\": \"Q10\", \"Answer\": \"a\"}\n",
        "]\n",
        "\n",
        "# Add 'User Answer' and 'Is Correct' columns\n",
        "answers_df = pd.DataFrame(student_answers)\n",
        "data = data.merge(answers_df, on=\"Question ID\", how=\"left\")\n",
        "data[\"Is Correct\"] = (data[\"Answer\"] == data[\"Correct Answer\"]).astype(int)\n",
        "\n",
        "# Prepare data for training\n",
        "X = pd.get_dummies(data[[\"Quiz ID\", \"Topic\", \"Answer\"]])\n",
        "y = data[\"Is Correct\"]\n",
        "\n",
        "# Train/test split\n",
        "X_train, X_test, y_train, y_test = train_test_split(X, y, test_size=0.2, random_state=42)\n",
        "\n",
        "# Train model\n",
        "model = RandomForestClassifier(random_state=42)\n",
        "model.fit(X_train, y_train)\n",
        "\n",
        "# Model predictions\n",
        "data[\"Predicted\"] = model.predict(X)\n",
        "\n",
        "# Calculate performance per topic\n",
        "performance = data.groupby(\"Topic\")[\"Is Correct\"].mean().reset_index()\n",
        "performance.columns = [\"Topic\", \"Accuracy\"]\n",
        "\n",
        "# Suggest topics for review\n",
        "threshold = 0.7  # Accuracy threshold\n",
        "to_review = performance[performance[\"Accuracy\"] < threshold]\n",
        "\n",
        "# Display recommendations\n",
        "print(\"Topics to Review:\")\n",
        "print(to_review)\n",
        "\n",
        "# Model accuracy\n",
        "accuracy = (data[\"Predicted\"] == data[\"Is Correct\"]).mean()\n",
        "print(f\"Model Accuracy: {accuracy * 100:.2f}%\")\n"
      ],
      "metadata": {
        "colab": {
          "base_uri": "https://localhost:8080/"
        },
        "id": "G9IjV4gpJZk6",
        "outputId": "4766c86c-d07e-4630-90ba-346b18ac54aa"
      },
      "execution_count": null,
      "outputs": [
        {
          "output_type": "stream",
          "name": "stdout",
          "text": [
            "Topics to Review:\n",
            "             Topic  Accuracy\n",
            "1  Large Intestine       0.5\n",
            "Model Accuracy: 100.00%\n"
          ]
        }
      ]
    },
    {
      "cell_type": "code",
      "source": [
        "import matplotlib.pyplot as plt\n",
        "\n",
        "# Model accuracy\n",
        "accuracy = (data[\"Predicted\"] == data[\"Is Correct\"]).mean()\n",
        "accuracy_percentage = accuracy * 100\n",
        "\n",
        "# Plotting the accuracy\n",
        "plt.figure(figsize=(6, 4))\n",
        "plt.barh(['Model Accuracy'], [accuracy_percentage], color='skyblue')\n",
        "plt.xlim(0, 100)  # Set x-axis range from 0 to 100\n",
        "plt.xlabel('Accuracy (%)')\n",
        "plt.title('Model Accuracy')\n",
        "plt.show()"
      ],
      "metadata": {
        "colab": {
          "base_uri": "https://localhost:8080/",
          "height": 410
        },
        "id": "KZo8sP-1MLXc",
        "outputId": "6386e01c-227e-4336-816e-ce6416f77d89"
      },
      "execution_count": null,
      "outputs": [
        {
          "output_type": "display_data",
          "data": {
            "text/plain": [
              "<Figure size 600x400 with 1 Axes>"
            ],
            "image/png": "[encoded data removed]"
          },
          "metadata": {}
        }
      ]
    },
    {
      "cell_type": "code",
      "source": [
        "import matplotlib.pyplot as plt\n",
        "\n",
        "# Assuming 'data' is the correct DataFrame containing your predictions and correct labels\n",
        "# Calculate accuracy per topic\n",
        "topic_accuracy = data.groupby('Topic').apply(lambda x: (x['Predicted'] == x['Is Correct']).mean())\n",
        "\n",
        "# Print the overall model accuracy\n",
        "accuracy = (data['Predicted'] == data['Is Correct']).mean()\n",
        "print(f\"Model Accuracy: {accuracy * 100:.2f}%\")\n",
        "\n",
        "# Visualize accuracy by topic\n",
        "plt.figure(figsize=(10, 6))\n",
        "plt.bar(topic_accuracy.index, topic_accuracy.values, color='lightcoral')\n",
        "\n",
        "plt.xlabel('Topic')\n",
        "plt.ylabel('Accuracy')\n",
        "plt.title('Model Accuracy by Topic')\n",
        "plt.ylim(0, 1)  # Accuracy ranges from 0 to 1\n",
        "plt.xticks(rotation=45)\n",
        "\n",
        "# Show the plot\n",
        "plt.tight_layout()\n",
        "plt.show()\n"
      ],
      "metadata": {
        "colab": {
          "base_uri": "https://localhost:8080/",
          "height": 679
        },
        "id": "OXAkLr_LMOb_",
        "outputId": "a682e28a-89cb-41e7-ce60-8400f4948f9d"
      },
      "execution_count": null,
      "outputs": [
        {
          "output_type": "stream",
          "name": "stderr",
          "text": [
            "<ipython-input-4-a8418bfed02c>:5: DeprecationWarning: DataFrameGroupBy.apply operated on the grouping columns. This behavior is deprecated, and in a future version of pandas the grouping columns will be excluded from the operation. Either pass `include_groups=False` to exclude the groupings or explicitly select the grouping columns after groupby to silence this warning.\n",
            "  topic_accuracy = data.groupby('Topic').apply(lambda x: (x['Predicted'] == x['Is Correct']).mean())\n"
          ]
        },
        {
          "output_type": "stream",
          "name": "stdout",
          "text": [
            "Model Accuracy: 100.00%\n"
          ]
        },
        {
          "output_type": "display_data",
          "data": {
            "text/plain": [
              "<Figure size 1000x600 with 1 Axes>"
            ],
            "image/png": "[encoded data removed]"
          },
          "metadata": {}
        }
      ]
    },
    {
      "cell_type": "code",
      "source": [
        "import pickle\n",
        "\n",
        "# Will be the filename of the trained model\n",
        "filename = 'stomach_quiz_ai.pkl'\n",
        "\n",
        "# Save the model\n",
        "with open(filename, 'wb') as file:\n",
        "    pickle.dump(data, file)\n",
        "\n",
        "print(f\"Model saved as {filename}\")\n"
      ],
      "metadata": {
        "colab": {
          "base_uri": "https://localhost:8080/"
        },
        "id": "4tbNY8plMToH",
        "outputId": "8f8e5b7d-871a-439c-a703-8bc44dea8e79"
      },
      "execution_count": null,
      "outputs": [
        {
          "output_type": "stream",
          "name": "stdout",
          "text": [
            "Model saved as stomach_quiz_ai.pkl\n"
          ]
        }
      ]
    },
    {
      "cell_type": "code",
      "source": [
        "from google.colab import files\n",
        "\n",
        "# Download the model file\n",
        "files.download('stomach_quiz_ai.pkl')"
      ],
      "metadata": {
        "colab": {
          "base_uri": "https://localhost:8080/",
          "height": 17
        },
        "id": "5AWqm6pAMWRq",
        "outputId": "1f1ed3d2-9026-4179-8d0b-cecd501cc791"
      },
      "execution_count": null,
      "outputs": [
        {
          "output_type": "display_data",
          "data": {
            "text/plain": [
              "<IPython.core.display.Javascript object>"
            ],
            "application/javascript": [
              "\n",
              "    async function download(id, filename, size) {\n",
              "      if (!google.colab.kernel.accessAllowed) {\n",
              "        return;\n",
              "      }\n",
              "      const div = document.createElement('div');\n",
              "      const label = document.createElement('label');\n",
              "      label.textContent = `Downloading \"${filename}\": `;\n",
              "      div.appendChild(label);\n",
              "      const progress = document.createElement('progress');\n",
              "      progress.max = size;\n",
              "      div.appendChild(progress);\n",
              "      document.body.appendChild(div);\n",
              "\n",
              "      const buffers = [];\n",
              "      let downloaded = 0;\n",
              "\n",
              "      const channel = await google.colab.kernel.comms.open(id);\n",
              "      // Send a message to notify the kernel that we're ready.\n",
              "      channel.send({})\n",
              "\n",
              "      for await (const message of channel.messages) {\n",
              "        // Send a message to notify the kernel that we're ready.\n",
              "        channel.send({})\n",
              "        if (message.buffers) {\n",
              "          for (const buffer of message.buffers) {\n",
              "            buffers.push(buffer);\n",
              "            downloaded += buffer.byteLength;\n",
              "            progress.value = downloaded;\n",
              "          }\n",
              "        }\n",
              "      }\n",
              "      const blob = new Blob(buffers, {type: 'application/binary'});\n",
              "      const a = document.createElement('a');\n",
              "      a.href = window.URL.createObjectURL(blob);\n",
              "      a.download = filename;\n",
              "      div.appendChild(a);\n",
              "      a.click();\n",
              "      div.remove();\n",
              "    }\n",
              "  "
            ]
          },
          "metadata": {}
        },
        {
          "output_type": "display_data",
          "data": {
            "text/plain": [
              "<IPython.core.display.Javascript object>"
            ],
            "application/javascript": [
              "download(\"download_42e448f6-f8d3-4c1c-a74a-6e11f325dde1\", \"stomach_quiz_ai.pkl\", 2639)"
            ]
          },
          "metadata": {}
        }
      ]
    }
  ]
}