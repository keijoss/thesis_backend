{
  "nbformat": 4,
  "nbformat_minor": 0,
  "metadata": {
    "colab": {
      "provenance": [],
      "authorship_tag": "ABX9TyPtZR5lNjgJatRrSf7CYEX1",
      "include_colab_link": true
    },
    "kernelspec": {
      "name": "python3",
      "display_name": "Python 3"
    },
    "language_info": {
      "name": "python"
    }
  },
  "cells": [
    {
      "cell_type": "markdown",
      "metadata": {
        "id": "view-in-github",
        "colab_type": "text"
      },
      "source": [
        "<a href=\"https://colab.research.google.com/github/keijoss/thesis_backend/blob/main/female.ipynb\" target=\"_parent\"><img src=\"https://colab.research.google.com/assets/colab-badge.svg\" alt=\"Open In Colab\"/></a>"
      ]
    },
    {
      "cell_type": "code",
      "execution_count": null,
      "metadata": {
        "colab": {
          "base_uri": "https://localhost:8080/"
        },
        "id": "bCfByYOQ4Bvm",
        "outputId": "66d1f6ed-d49f-4a64-fc82-eb721cd6db05"
      },
      "outputs": [
        {
          "output_type": "stream",
          "name": "stdout",
          "text": [
            "Requirement already satisfied: pandas in /usr/local/lib/python3.10/dist-packages (2.2.2)\n",
            "Requirement already satisfied: numpy>=1.22.4 in /usr/local/lib/python3.10/dist-packages (from pandas) (1.26.4)\n",
            "Requirement already satisfied: python-dateutil>=2.8.2 in /usr/local/lib/python3.10/dist-packages (from pandas) (2.8.2)\n",
            "Requirement already satisfied: pytz>=2020.1 in /usr/local/lib/python3.10/dist-packages (from pandas) (2024.2)\n",
            "Requirement already satisfied: tzdata>=2022.7 in /usr/local/lib/python3.10/dist-packages (from pandas) (2024.2)\n",
            "Requirement already satisfied: six>=1.5 in /usr/local/lib/python3.10/dist-packages (from python-dateutil>=2.8.2->pandas) (1.17.0)\n",
            "Requirement already satisfied: numpy in /usr/local/lib/python3.10/dist-packages (1.26.4)\n",
            "Requirement already satisfied: matplotlib in /usr/local/lib/python3.10/dist-packages (3.10.0)\n",
            "Requirement already satisfied: contourpy>=1.0.1 in /usr/local/lib/python3.10/dist-packages (from matplotlib) (1.3.1)\n",
            "Requirement already satisfied: cycler>=0.10 in /usr/local/lib/python3.10/dist-packages (from matplotlib) (0.12.1)\n",
            "Requirement already satisfied: fonttools>=4.22.0 in /usr/local/lib/python3.10/dist-packages (from matplotlib) (4.55.3)\n",
            "Requirement already satisfied: kiwisolver>=1.3.1 in /usr/local/lib/python3.10/dist-packages (from matplotlib) (1.4.8)\n",
            "Requirement already satisfied: numpy>=1.23 in /usr/local/lib/python3.10/dist-packages (from matplotlib) (1.26.4)\n",
            "Requirement already satisfied: packaging>=20.0 in /usr/local/lib/python3.10/dist-packages (from matplotlib) (24.2)\n",
            "Requirement already satisfied: pillow>=8 in /usr/local/lib/python3.10/dist-packages (from matplotlib) (11.1.0)\n",
            "Requirement already satisfied: pyparsing>=2.3.1 in /usr/local/lib/python3.10/dist-packages (from matplotlib) (3.2.1)\n",
            "Requirement already satisfied: python-dateutil>=2.7 in /usr/local/lib/python3.10/dist-packages (from matplotlib) (2.8.2)\n",
            "Requirement already satisfied: six>=1.5 in /usr/local/lib/python3.10/dist-packages (from python-dateutil>=2.7->matplotlib) (1.17.0)\n",
            "Requirement already satisfied: scikit-learn in /usr/local/lib/python3.10/dist-packages (1.6.0)\n",
            "Requirement already satisfied: numpy>=1.19.5 in /usr/local/lib/python3.10/dist-packages (from scikit-learn) (1.26.4)\n",
            "Requirement already satisfied: scipy>=1.6.0 in /usr/local/lib/python3.10/dist-packages (from scikit-learn) (1.13.1)\n",
            "Requirement already satisfied: joblib>=1.2.0 in /usr/local/lib/python3.10/dist-packages (from scikit-learn) (1.4.2)\n",
            "Requirement already satisfied: threadpoolctl>=3.1.0 in /usr/local/lib/python3.10/dist-packages (from scikit-learn) (3.5.0)\n"
          ]
        }
      ],
      "source": [
        "!pip install pandas\n",
        "!pip install numpy\n",
        "!pip install matplotlib\n",
        "!pip install scikit-learn"
      ]
    },
    {
      "cell_type": "code",
      "source": [
        "import pandas as pd\n",
        "from sklearn.model_selection import train_test_split\n",
        "from sklearn.ensemble import RandomForestClassifier\n",
        "\n",
        "# Load dataset\n",
        "data = pd.DataFrame([\n",
        "\n",
        "    {\"Quiz ID\": \"Quiz 2\", \"Question ID\": \"F1\", \"Question\": \"What is the function of the uterus in the female reproductive system?\",\n",
        "     \"Options\": \"a. Produces eggs, b. Houses and nourishes a developing fetus, c. Produces hormones, d. Transports eggs\",\n",
        "     \"Correct Answer\": \"b\", \"Topic\": \"Uterus\"},\n",
        "    {\"Quiz ID\": \"Quiz 2\", \"Question ID\": \"F2\", \"Question\": \"Which part of the female reproductive system connects the ovary to the uterus?\",\n",
        "     \"Options\": \"a. Cervix, b. Fallopian tube, c. Vagina, d. Uterus\",\n",
        "     \"Correct Answer\": \"b\", \"Topic\": \"Fallopian Tube\"},\n",
        "    {\"Quiz ID\": \"Quiz 2\", \"Question ID\": \"F3\", \"Question\": \"What is the role of the cervix?\",\n",
        "     \"Options\": \"a. To produce eggs, b. To act as the opening to the uterus, c. To carry eggs, d. To release hormones\",\n",
        "     \"Correct Answer\": \"b\", \"Topic\": \"Cervix\"},\n",
        "    {\"Quiz ID\": \"Quiz 2\", \"Question ID\": \"F4\", \"Question\": \"What is the main function of the ovaries?\",\n",
        "     \"Options\": \"a. To produce and release eggs, b. To support a developing fetus, c. To store sperm, d. To connect to the uterus\",\n",
        "     \"Correct Answer\": \"a\", \"Topic\": \"Ovary\"},\n",
        "    {\"Quiz ID\": \"Quiz 2\", \"Question ID\": \"F5\", \"Question\": \"What is the vagina's primary function?\",\n",
        "     \"Options\": \"a. Acts as the birth canal, b. Stores eggs, c. Produces hormones, d. Transports sperm to the fallopian tube\",\n",
        "     \"Correct Answer\": \"a\", \"Topic\": \"Vagina\"},\n",
        "    {\"Quiz ID\": \"Quiz 2\", \"Question ID\": \"F6\", \"Question\": \"Where does fertilization usually occur in the female reproductive system?\",\n",
        "     \"Options\": \"a. Uterus, b. Vagina, c. Fallopian tube, d. Cervix\",\n",
        "     \"Correct Answer\": \"c\", \"Topic\": \"Fallopian Tube\"},\n",
        "    {\"Quiz ID\": \"Quiz 2\", \"Question ID\": \"F7\", \"Question\": \"Which organ produces female sex hormones such as estrogen and progesterone?\",\n",
        "     \"Options\": \"a. Uterus, b. Cervix, c. Ovaries, d. Fallopian tube\",\n",
        "     \"Correct Answer\": \"c\", \"Topic\": \"Ovary\"},\n",
        "    {\"Quiz ID\": \"Quiz 2\", \"Question ID\": \"F8\", \"Question\": \"What is the lower, narrow part of the uterus called?\",\n",
        "     \"Options\": \"a. Cervix, b. Fallopian tube, c. Vagina, d. Ovary\",\n",
        "     \"Correct Answer\": \"a\", \"Topic\": \"Cervix\"},\n",
        "    {\"Quiz ID\": \"Quiz 2\", \"Question ID\": \"F9\", \"Question\": \"What is the purpose of the fallopian tubes?\",\n",
        "     \"Options\": \"a. To connect the uterus and the cervix, b. To carry eggs from the ovaries to the uterus, c. To produce eggs, d. To act as a barrier for sperm\",\n",
        "     \"Correct Answer\": \"b\", \"Topic\": \"Fallopian Tube\"},\n",
        "    {\"Quiz ID\": \"Quiz 2\", \"Question ID\": \"F10\", \"Question\": \"What happens in the uterus during pregnancy?\",\n",
        "     \"Options\": \"a. Hormones are produced, b. The fertilized egg implants and develops into a fetus, c. Eggs are released, d. Fertilization occurs\",\n",
        "     \"Correct Answer\": \"b\", \"Topic\": \"Uterus\"}\n",
        "])\n",
        "\n",
        "# Student answers example\n",
        "student_answers = [\n",
        "\n",
        "    {\"Question ID\": \"F1\", \"Answer\": \"b\"},\n",
        "    {\"Question ID\": \"F2\", \"Answer\": \"b\"},\n",
        "    {\"Question ID\": \"F3\", \"Answer\": \"b\"},\n",
        "    {\"Question ID\": \"F4\", \"Answer\": \"a\"},\n",
        "    {\"Question ID\": \"F5\", \"Answer\": \"a\"},\n",
        "    {\"Question ID\": \"F6\", \"Answer\": \"c\"},\n",
        "    {\"Question ID\": \"F7\", \"Answer\": \"c\"},\n",
        "    {\"Question ID\": \"F8\", \"Answer\": \"a\"},\n",
        "    {\"Question ID\": \"F9\", \"Answer\": \"b\"},\n",
        "    {\"Question ID\": \"F10\", \"Answer\": \"a\"} #wrong\n",
        "    # Add all answers here\n",
        "]\n",
        "\n",
        "# Train model using quiz data\n",
        "\n",
        "# Add 'User Answer' and 'Is Correct' columns\n",
        "answers_df = pd.DataFrame(student_answers)\n",
        "data = data.merge(answers_df, on=\"Question ID\", how=\"left\")\n",
        "data[\"Is Correct\"] = (data[\"Answer\"] == data[\"Correct Answer\"]).astype(int)\n",
        "\n",
        "# Prepare data for training\n",
        "X = pd.get_dummies(data[[\"Quiz ID\", \"Topic\", \"Answer\"]])\n",
        "y = data[\"Is Correct\"]\n",
        "\n",
        "# Train/test split\n",
        "X_train, X_test, y_train, y_test = train_test_split(X, y, test_size=0.2, random_state=42)\n",
        "\n",
        "# Train model\n",
        "model = RandomForestClassifier(random_state=42)\n",
        "model.fit(X_train, y_train)\n",
        "\n",
        "# Model predictions\n",
        "data[\"Predicted\"] = model.predict(X)\n",
        "\n",
        "# Calculate performance per topic\n",
        "performance = data.groupby(\"Topic\")[\"Is Correct\"].mean().reset_index()\n",
        "performance.columns = [\"Topic\", \"Accuracy\"]\n",
        "\n",
        "# Suggest topics for review and ignore every topic that has 0 accuracy\n",
        "\n",
        "threshold = 0.7  # Accuracy threshold\n",
        "to_review = performance[performance[\"Accuracy\"] < threshold]\n",
        "\n",
        "# # Set threshold\n",
        "# threshold = 0.7  # Accuracy threshold\n",
        "\n",
        "# # Filter out topics with 0 accuracy\n",
        "# filtered_performance = performance[performance[\"Accuracy\"] > 0]\n",
        "\n",
        "# # Suggest topics for review\n",
        "# to_review = filtered_performance[filtered_performance[\"Accuracy\"] < threshold]\n",
        "\n",
        "# Display recommendations\n",
        "print(\"Topics to Review:\")\n",
        "print(to_review)\n",
        "\n",
        "# Model accuracy\n",
        "accuracy = (data[\"Predicted\"] == data[\"Is Correct\"]).mean()\n",
        "print(f\"Model Accuracy: {accuracy * 100:.2f}%\")\n"
      ],
      "metadata": {
        "colab": {
          "base_uri": "https://localhost:8080/"
        },
        "id": "xd7lQCY34PpZ",
        "outputId": "e5d253c8-2c51-4786-be01-02311e6ee45b"
      },
      "execution_count": null,
      "outputs": [
        {
          "output_type": "stream",
          "name": "stdout",
          "text": [
            "Topics to Review:\n",
            "    Topic  Accuracy\n",
            "3  Uterus       0.5\n",
            "Model Accuracy: 100.00%\n"
          ]
        }
      ]
    },
    {
      "cell_type": "code",
      "source": [
        "import matplotlib.pyplot as plt\n",
        "\n",
        "# Model accuracy\n",
        "accuracy = (data[\"Predicted\"] == data[\"Is Correct\"]).mean()\n",
        "accuracy_percentage = accuracy * 100\n",
        "\n",
        "# Plotting the accuracy\n",
        "plt.figure(figsize=(6, 4))\n",
        "plt.barh(['Model Accuracy'], [accuracy_percentage], color='skyblue')\n",
        "plt.xlim(0, 100)  # Set x-axis range from 0 to 100\n",
        "plt.xlabel('Accuracy (%)')\n",
        "plt.title('Model Accuracy')\n",
        "plt.show()"
      ],
      "metadata": {
        "colab": {
          "base_uri": "https://localhost:8080/",
          "height": 410
        },
        "id": "391eizN44cf1",
        "outputId": "64e02273-289d-4474-a17a-04e96d754992"
      },
      "execution_count": null,
      "outputs": [
        {
          "output_type": "display_data",
          "data": {
            "text/plain": [
              "<Figure size 600x400 with 1 Axes>"
            ],
            "image/png": "[encoded data removed]"
          },
          "metadata": {}
        }
      ]
    },
    {
      "cell_type": "code",
      "source": [
        "import matplotlib.pyplot as plt\n",
        "\n",
        "# Assuming 'data' is the correct DataFrame containing your predictions and correct labels\n",
        "# Calculate accuracy per topic\n",
        "topic_accuracy = data.groupby('Topic').apply(lambda x: (x['Predicted'] == x['Is Correct']).mean())\n",
        "\n",
        "# Print the overall model accuracy\n",
        "accuracy = (data['Predicted'] == data['Is Correct']).mean()\n",
        "print(f\"Model Accuracy: {accuracy * 100:.2f}%\")\n",
        "\n",
        "# Visualize accuracy by topic\n",
        "plt.figure(figsize=(10, 6))\n",
        "plt.bar(topic_accuracy.index, topic_accuracy.values, color='lightcoral')\n",
        "\n",
        "plt.xlabel('Topic')\n",
        "plt.ylabel('Accuracy')\n",
        "plt.title('Model Accuracy by Topic')\n",
        "plt.ylim(0, 1)  # Accuracy ranges from 0 to 1\n",
        "plt.xticks(rotation=45)\n",
        "\n",
        "# Show the plot\n",
        "plt.tight_layout()\n",
        "plt.show()\n"
      ],
      "metadata": {
        "colab": {
          "base_uri": "https://localhost:8080/",
          "height": 673
        },
        "id": "EfIPx5eA4gwm",
        "outputId": "f7b9a3d8-c1b9-4045-9974-9ea4a540f5b2"
      },
      "execution_count": null,
      "outputs": [
        {
          "output_type": "stream",
          "name": "stdout",
          "text": [
            "Model Accuracy: 100.00%\n"
          ]
        },
        {
          "output_type": "stream",
          "name": "stderr",
          "text": [
            "<ipython-input-9-a8418bfed02c>:5: DeprecationWarning: DataFrameGroupBy.apply operated on the grouping columns. This behavior is deprecated, and in a future version of pandas the grouping columns will be excluded from the operation. Either pass `include_groups=False` to exclude the groupings or explicitly select the grouping columns after groupby to silence this warning.\n",
            "  topic_accuracy = data.groupby('Topic').apply(lambda x: (x['Predicted'] == x['Is Correct']).mean())\n"
          ]
        },
        {
          "output_type": "display_data",
          "data": {
            "text/plain": [
              "<Figure size 1000x600 with 1 Axes>"
            ],
            "image/png": "[encoded data removed]"
          },
          "metadata": {}
        }
      ]
    },
    {
      "cell_type": "code",
      "source": [
        "import pickle\n",
        "\n",
        "# Will be the filename of the trained model\n",
        "filename = 'female_quiz_ai.pkl'\n",
        "\n",
        "# Save the model\n",
        "with open(filename, 'wb') as file:\n",
        "    pickle.dump(data, file)\n",
        "\n",
        "print(f\"Model saved as {filename}\")\n",
        "import pickle\n",
        "\n",
        "# Will be the filename of the trained model\n",
        "filename = 'female_quiz_ai.pkl'\n",
        "\n",
        "# Save the model\n",
        "with open(filename, 'wb') as file:\n",
        "    pickle.dump(data, file)\n",
        "\n",
        "print(f\"Model saved as {filename}\")\n"
      ],
      "metadata": {
        "colab": {
          "base_uri": "https://localhost:8080/"
        },
        "id": "ThfumodM4kE1",
        "outputId": "0998a651-e3a2-4205-bb05-6328d66c5bf5"
      },
      "execution_count": null,
      "outputs": [
        {
          "output_type": "stream",
          "name": "stdout",
          "text": [
            "Model saved as female_quiz_ai.pkl\n",
            "Model saved as female_quiz_ai.pkl\n"
          ]
        }
      ]
    },
    {
      "cell_type": "code",
      "source": [
        "import pickle\n",
        "\n",
        "# Will be the filename of the trained model\n",
        "filename = 'female_quiz_ai.pkl'\n",
        "\n",
        "# Save the model\n",
        "with open(filename, 'wb') as file:\n",
        "    pickle.dump(data, file)\n",
        "\n",
        "print(f\"Model saved as {filename}\")\n"
      ],
      "metadata": {
        "colab": {
          "base_uri": "https://localhost:8080/"
        },
        "id": "jo7offe74n5K",
        "outputId": "0e62d39a-3f77-4a6a-a946-ba0a7fc12e12"
      },
      "execution_count": null,
      "outputs": [
        {
          "output_type": "stream",
          "name": "stdout",
          "text": [
            "Model saved as female_quiz_ai.pkl\n"
          ]
        }
      ]
    },
    {
      "cell_type": "code",
      "source": [],
      "metadata": {
        "id": "3AW5YAsqIg8Q"
      },
      "execution_count": null,
      "outputs": []
    },
    {
      "cell_type": "code",
      "source": [
        "from google.colab import files\n",
        "\n",
        "# Download the model file\n",
        "files.download('female_quiz_ai.pkl')"
      ],
      "metadata": {
        "id": "ainUgYFekZhc",
        "colab": {
          "base_uri": "https://localhost:8080/"
        },
        "outputId": "89e07784-8ae3-4f07-ce4c-dfb3ef0ce5d9"
      },
      "execution_count": null,
      "outputs": [
        {
          "output_type": "display_data",
          "data": {
            "text/plain": [
              "<IPython.core.display.Javascript object>"
            ],
            "application/javascript": [
              "\n",
              "    async function download(id, filename, size) {\n",
              "      if (!google.colab.kernel.accessAllowed) {\n",
              "        return;\n",
              "      }\n",
              "      const div = document.createElement('div');\n",
              "      const label = document.createElement('label');\n",
              "      label.textContent = `Downloading \"${filename}\": `;\n",
              "      div.appendChild(label);\n",
              "      const progress = document.createElement('progress');\n",
              "      progress.max = size;\n",
              "      div.appendChild(progress);\n",
              "      document.body.appendChild(div);\n",
              "\n",
              "      const buffers = [];\n",
              "      let downloaded = 0;\n",
              "\n",
              "      const channel = await google.colab.kernel.comms.open(id);\n",
              "      // Send a message to notify the kernel that we're ready.\n",
              "      channel.send({})\n",
              "\n",
              "      for await (const message of channel.messages) {\n",
              "        // Send a message to notify the kernel that we're ready.\n",
              "        channel.send({})\n",
              "        if (message.buffers) {\n",
              "          for (const buffer of message.buffers) {\n",
              "            buffers.push(buffer);\n",
              "            downloaded += buffer.byteLength;\n",
              "            progress.value = downloaded;\n",
              "          }\n",
              "        }\n",
              "      }\n",
              "      const blob = new Blob(buffers, {type: 'application/binary'});\n",
              "      const a = document.createElement('a');\n",
              "      a.href = window.URL.createObjectURL(blob);\n",
              "      a.download = filename;\n",
              "      div.appendChild(a);\n",
              "      a.click();\n",
              "      div.remove();\n",
              "    }\n",
              "  "
            ]
          },
          "metadata": {}
        },
        {
          "output_type": "display_data",
          "data": {
            "text/plain": [
              "<IPython.core.display.Javascript object>"
            ],
            "application/javascript": [
              "download(\"download_29c9bf19-80d4-4b89-a8ea-3bfa0bef951d\", \"female_quiz_ai.pkl\", 2755)"
            ]
          },
          "metadata": {}
        }
      ]
    },
    {
      "cell_type": "markdown",
      "source": [],
      "metadata": {
        "id": "BTu_6ZPI4qrm"
      }
    }
  ]
}